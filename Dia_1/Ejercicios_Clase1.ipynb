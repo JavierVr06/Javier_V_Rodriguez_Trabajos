{
 "cells": [
  {
   "cell_type": "markdown",
   "id": "9e2cc053",
   "metadata": {},
   "source": [
    "### +++ Ejercicio 1 +++"
   ]
  },
  {
   "cell_type": "code",
   "execution_count": 114,
   "id": "e97bae2b",
   "metadata": {},
   "outputs": [
    {
     "name": "stdout",
     "output_type": "stream",
     "text": [
      "[3]\n"
     ]
    }
   ],
   "source": [
    "import math\n",
    "\n",
    "def primos(n):\n",
    "    nat = [*range(1, n+1)]\n",
    "    prim = []\n",
    "    for i in range (2, len(nat)):\n",
    "        esPrimo = True\n",
    "        for q in range (2, int(math.sqrt(nat[i]))+1):\n",
    "            if nat[i] % 1 == 0:\n",
    "                esPrimo = False\n",
    "                break\n",
    "        if esPrimo:\n",
    "            prim.append(nat[i])\n",
    "    return prim\n",
    "\n",
    "p = primos(20)\n",
    "print(p)\n",
    "\n",
    "#Desconozco la razón por la cúal no imprime correctamente el resultado profesor, considero que es por la librería."
   ]
  },
  {
   "cell_type": "markdown",
   "id": "d80bbd43",
   "metadata": {},
   "source": [
    "### +++ Ejercicio 2 +++"
   ]
  },
  {
   "cell_type": "code",
   "execution_count": 104,
   "id": "524ff889",
   "metadata": {},
   "outputs": [
    {
     "name": "stdout",
     "output_type": "stream",
     "text": [
      "a = [1.2, 3.7, -0.25]\n",
      "b = [-0.44, -2.8, 7]\n",
      "a x b = [25.200000000000003, -8.290000000000001, -1.7319999999999998]\n"
     ]
    }
   ],
   "source": [
    "def cross(a,b):\n",
    "    c = []\n",
    "    c.append(a[1]*b[2]-a[2]*b[1])\n",
    "    c.append(a[2]*b[0]-a[0]*b[2])\n",
    "    c.append(a[0]*b[1]-a[1]*b[0])\n",
    "    return c\n",
    "\n",
    "x = [1.2,3.7,-0.25]\n",
    "y = [-0.44,-2.8,7]\n",
    "cr = cross(x,y)\n",
    "\n",
    "print (\"a =\", x)\n",
    "print (\"b =\", y)\n",
    "print(\"a x b =\", cr)"
   ]
  },
  {
   "cell_type": "markdown",
   "id": "d6b4dbb9",
   "metadata": {},
   "source": [
    "### +++ Ejercicio 3 +++"
   ]
  },
  {
   "cell_type": "code",
   "execution_count": 106,
   "id": "be8bfa9e",
   "metadata": {},
   "outputs": [
    {
     "name": "stdout",
     "output_type": "stream",
     "text": [
      "[['13.45', ' 20.67', ' -15.0821'], ['-5.012', ' -40.333', ' 12.874']]\n",
      "a = [13.45, 20.67, -15.0821]\n",
      "b = [-5.012, -40.333, 12.874]\n",
      "a x b = [-342.20075929999996, -97.56381480000002, -438.88081]\n"
     ]
    }
   ],
   "source": [
    "import csv\n",
    "\n",
    "filas = []\n",
    "with open(\"vectors.csv\", \"r\") as file:\n",
    "    csvr = csv.reader(file)\n",
    "    for row in csvr:\n",
    "        filas.append(row)\n",
    "print (filas)\n",
    "\n",
    "x = [float(filas[0][0]), float(filas[0][1]), float(filas[0][2])]\n",
    "y = [float(filas[1][0]), float(filas[1][1]), float(filas[1][2])]\n",
    "cr = cross(x,y)\n",
    "\n",
    "print (\"a =\", x)\n",
    "print (\"b =\", y)\n",
    "print(\"a x b =\", cr)"
   ]
  }
 ],
 "metadata": {
  "kernelspec": {
   "display_name": "Python 3 (ipykernel)",
   "language": "python",
   "name": "python3"
  },
  "language_info": {
   "codemirror_mode": {
    "name": "ipython",
    "version": 3
   },
   "file_extension": ".py",
   "mimetype": "text/x-python",
   "name": "python",
   "nbconvert_exporter": "python",
   "pygments_lexer": "ipython3",
   "version": "3.10.4"
  }
 },
 "nbformat": 4,
 "nbformat_minor": 5
}
